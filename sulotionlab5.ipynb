{
 "cells": [
  {
   "cell_type": "code",
   "execution_count": 1,
   "id": "30cb456f",
   "metadata": {},
   "outputs": [],
   "source": [
    "lst=[5, 4, 17, 19, 30, 2, 7, 10, 45]"
   ]
  },
  {
   "cell_type": "code",
   "execution_count": 2,
   "id": "7eda2212",
   "metadata": {},
   "outputs": [
    {
     "name": "stdout",
     "output_type": "stream",
     "text": [
      "139\n"
     ]
    }
   ],
   "source": [
    "TheSume=0\n",
    "for s in lst:\n",
    "    TheSume=TheSume+s\n",
    "print(TheSume)"
   ]
  },
  {
   "cell_type": "code",
   "execution_count": 3,
   "id": "085cbb8b",
   "metadata": {},
   "outputs": [
    {
     "name": "stdout",
     "output_type": "stream",
     "text": [
      "45\n"
     ]
    }
   ],
   "source": [
    "larg=0\n",
    "for m in lst:\n",
    "    if m>larg:\n",
    "        larg=m\n",
    "    \n",
    "print(larg)"
   ]
  },
  {
   "cell_type": "code",
   "execution_count": 4,
   "id": "8798755f",
   "metadata": {},
   "outputs": [
    {
     "name": "stdout",
     "output_type": "stream",
     "text": [
      "45\n"
     ]
    }
   ],
   "source": [
    "print(max(lst))"
   ]
  },
  {
   "cell_type": "code",
   "execution_count": 5,
   "id": "1a798939",
   "metadata": {},
   "outputs": [
    {
     "name": "stdout",
     "output_type": "stream",
     "text": [
      "139\n"
     ]
    }
   ],
   "source": [
    "print(sum(lst))"
   ]
  },
  {
   "cell_type": "code",
   "execution_count": 6,
   "id": "a5ab6012",
   "metadata": {},
   "outputs": [
    {
     "name": "stdout",
     "output_type": "stream",
     "text": [
      "[4, 30, 2, 10]\n"
     ]
    }
   ],
   "source": [
    "newlst=[num for num in lst if num % 2 == 0]\n",
    "\n",
    "print(newlst)\n"
   ]
  },
  {
   "cell_type": "code",
   "execution_count": 7,
   "id": "4d426b60",
   "metadata": {},
   "outputs": [
    {
     "name": "stdout",
     "output_type": "stream",
     "text": [
      "[5, 4, 17, 19, 30]\n"
     ]
    }
   ],
   "source": [
    "newlst1=lst[:5]\n",
    "print(newlst1)"
   ]
  },
  {
   "cell_type": "code",
   "execution_count": null,
   "id": "3dc8989e",
   "metadata": {},
   "outputs": [],
   "source": []
  }
 ],
 "metadata": {
  "kernelspec": {
   "display_name": "Python 3 (ipykernel)",
   "language": "python",
   "name": "python3"
  },
  "language_info": {
   "codemirror_mode": {
    "name": "ipython",
    "version": 3
   },
   "file_extension": ".py",
   "mimetype": "text/x-python",
   "name": "python",
   "nbconvert_exporter": "python",
   "pygments_lexer": "ipython3",
   "version": "3.11.3"
  }
 },
 "nbformat": 4,
 "nbformat_minor": 5
}
